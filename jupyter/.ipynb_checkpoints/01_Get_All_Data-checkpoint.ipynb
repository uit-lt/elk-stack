{
  "cells": [
    {
      "cell_type": "markdown",
      "metadata": {},
      "source": [
        "# 📊 Get All Data from Elasticsearch"
      ]
    },
    {
      "cell_type": "code",
      "execution_count": null,
      "metadata": {},
      "outputs": [],
      "source": [
        "from pyspark.sql import SparkSession\n",
        "from pyspark.sql.functions import *\n",
        "import pandas as pd"
      ]
    },
    {
      "cell_type": "code",
      "execution_count": null,
      "metadata": {},
      "outputs": [],
      "source": [
        "# Create Spark Session\n",
        "spark = SparkSession.builder \\\n",
        "    .appName(\"GetAllData\") \\\n",
        "    .master(\"local[*]\") \\\n",
        "    .config(\"spark.es.nodes\", \"elasticsearch\") \\\n",
        "    .config(\"spark.es.port\", \"9200\") \\\n",
        "    .config(\"spark.serializer\", \"org.apache.spark.serializer.KryoSerializer\") \\\n",
        "    .config(\"spark.jars.packages\", \"org.elasticsearch:elasticsearch-spark-30_2.12:8.14.3\") \\\n",
        "    .getOrCreate()\n",
        "\n",
        "print(f\"Application ID: {spark.sparkContext.applicationId}\")"
      ]
    },
    {
      "cell_type": "code",
      "execution_count": null,
      "metadata": {},
      "outputs": [],
      "source": [
        "# Read all data from people index\n",
        "print(\"Reading from 2_people_data_2k index...\")\n",
        "people_df = spark.read \\\n",
        "    .format(\"org.elasticsearch.spark.sql\") \\\n",
        "    .option(\"es.nodes\", \"elasticsearch\") \\\n",
        "    .option(\"es.port\", \"9200\") \\\n",
        "    .option(\"es.resource\", \"2_people_data_2k\") \\\n",
        "    .load()\n",
        "\n",
        "# Show total count\n",
        "total_count = people_df.count()\n",
        "print(f\"Total records: {total_count}\")"
      ]
    },
    {
      "cell_type": "code",
      "execution_count": null,
      "metadata": {},
      "outputs": [],
      "source": [
        "# Show sample data\n",
        "print(\"Sample data (first 10 records):\")\n",
        "people_df.show(10)"
      ]
    },
    {
      "cell_type": "code",
      "execution_count": null,
      "metadata": {},
      "outputs": [],
      "source": [
        "# Show age distribution\n",
        "print(\"Age distribution:\")\n",
        "age_dist = people_df.groupBy(\"age\").count().orderBy(\"age\")\n",
        "age_dist.show(20)"
      ]
    },
    {
      "cell_type": "code",
      "execution_count": null,
      "metadata": {},
      "outputs": [],
      "source": [
        "# Show name statistics\n",
        "print(\"Most common names (top 10):\")\n",
        "name_stats = people_df.groupBy(\"name\").count().orderBy(col(\"count\").desc())\n",
        "name_stats.show(10)"
      ]
    },
    {
      "cell_type": "code",
      "execution_count": null,
      "metadata": {},
      "outputs": [],
      "source": [
        "# Stop Spark session\n",
        "spark.stop()\n",
        "print(\"Spark session stopped.\")"
      ]
    }
  ],
  "metadata": {
    "kernelspec": {
      "display_name": "Python 3 (ipykernel)",
      "language": "python",
      "name": "python3"
    },
    "language_info": {
      "name": "python",
      "version": "3.8.0"
    }
  },
  "nbformat": 4,
  "nbformat_minor": 4
}