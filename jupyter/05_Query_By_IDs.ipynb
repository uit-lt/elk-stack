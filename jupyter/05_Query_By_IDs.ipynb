{
 "cells": [
  {
   "cell_type": "markdown",
   "metadata": {},
   "source": [
    "# 🔍 Query Records by IDs"
   ]
  },
  {
   "cell_type": "code",
   "execution_count": 1,
   "metadata": {},
   "outputs": [],
   "source": [
    "from pyspark.sql import SparkSession\n",
    "from pyspark.sql.functions import *"
   ]
  },
  {
   "cell_type": "code",
   "execution_count": 2,
   "metadata": {},
   "outputs": [
    {
     "name": "stdout",
     "output_type": "stream",
     "text": [
      "Application ID: local-1757837619139\n"
     ]
    }
   ],
   "source": [
    "# Create Spark Session\n",
    "spark = SparkSession.builder \\\n",
    "    .appName(\"QueryByIds\") \\\n",
    "    .master(\"local[*]\") \\\n",
    "    .config(\"spark.es.nodes\", \"elasticsearch\") \\\n",
    "    .config(\"spark.es.port\", \"9200\") \\\n",
    "    .config(\"spark.serializer\", \"org.apache.spark.serializer.KryoSerializer\") \\\n",
    "    .config(\"spark.jars.packages\", \"org.elasticsearch:elasticsearch-spark-30_2.12:8.14.3\") \\\n",
    "    .getOrCreate()\n",
    "\n",
    "print(f\"Application ID: {spark.sparkContext.applicationId}\")"
   ]
  },
  {
   "cell_type": "code",
   "execution_count": 3,
   "metadata": {},
   "outputs": [
    {
     "name": "stdout",
     "output_type": "stream",
     "text": [
      "Searching for IDs: [24410114, 24410100, 24410109, 24410092, 24410040]\n"
     ]
    }
   ],
   "source": [
    "# List of IDs to query (you can modify this list)\n",
    "query_ids = [24410114, 24410100, 24410109, 24410092, 24410040]\n",
    "print(f\"Searching for IDs: {query_ids}\")"
   ]
  },
  {
   "cell_type": "code",
   "execution_count": 4,
   "metadata": {},
   "outputs": [
    {
     "name": "stdout",
     "output_type": "stream",
     "text": [
      "Total records in index: 2006\n"
     ]
    }
   ],
   "source": [
    "# Read data from Elasticsearch\n",
    "df = spark.read \\\n",
    "    .format(\"org.elasticsearch.spark.sql\") \\\n",
    "    .option(\"es.nodes\", \"elasticsearch\") \\\n",
    "    .option(\"es.port\", \"9200\") \\\n",
    "    .option(\"es.resource\", \"2_people_data_2k\") \\\n",
    "    .load()\n",
    "\n",
    "print(f\"Total records in index: {df.count()}\")"
   ]
  },
  {
   "cell_type": "code",
   "execution_count": 5,
   "metadata": {},
   "outputs": [
    {
     "name": "stdout",
     "output_type": "stream",
     "text": [
      "Found 5 matching records:\n",
      "+----------+--------+---+-----+--------+----+--------+----+-------+--------------------+\n",
      "|@timestamp|@version|age|event|filename|host|      id| log|message|                name|\n",
      "+----------+--------+---+-----+--------+----+--------+----+-------+--------------------+\n",
      "|      NULL|    NULL| 22| NULL|    NULL|NULL|24410040|NULL|   NULL| Ha Huy Hung updated|\n",
      "|      NULL|    NULL| 35| NULL|    NULL|NULL|24410092|NULL|   NULL|Huynh Duy Quoc up...|\n",
      "|      NULL|    NULL| 30| NULL|    NULL|NULL|24410100|NULL|   NULL|Nguyen Phuong Tan...|\n",
      "|      NULL|    NULL| 28| NULL|    NULL|NULL|24410109|NULL|   NULL|Nguyen Thi Thu Th...|\n",
      "|      NULL|    NULL| 30| NULL|    NULL|NULL|24410114|NULL|   NULL|Tran Tireu Thuan ...|\n",
      "+----------+--------+---+-----+--------+----+--------+----+-------+--------------------+\n",
      "\n"
     ]
    }
   ],
   "source": [
    "# Filter by IDs\n",
    "filtered_df = df.filter(col(\"id\").isin(query_ids))\n",
    "found_count = filtered_df.count()\n",
    "\n",
    "print(f\"Found {found_count} matching records:\")\n",
    "\n",
    "if found_count > 0:\n",
    "    # Show all matching records\n",
    "    filtered_df.orderBy(\"id\").show()"
   ]
  },
  {
   "cell_type": "code",
   "execution_count": 7,
   "metadata": {},
   "outputs": [
    {
     "name": "stdout",
     "output_type": "stream",
     "text": [
      "Summary statistics for found records:\n",
      "  - Age range: 22 to 35\n",
      "  - Average age: 29.0\n",
      "Found IDs: [24410040, 24410092, 24410100, 24410109, 24410114]\n"
     ]
    }
   ],
   "source": [
    "if found_count > 0:\n",
    "    # Show summary statistics\n",
    "    print(\"Summary statistics for found records:\")\n",
    "    age_stats = filtered_df.agg(min('age'), max('age'), avg('age')).collect()[0]\n",
    "    print(f\"  - Age range: {age_stats[0]} to {age_stats[1]}\")\n",
    "    print(f\"  - Average age: {age_stats[2]:.1f}\")\n",
    "    \n",
    "    # Show which IDs were found vs not found\n",
    "    found_ids = [row['id'] for row in filtered_df.select('id').collect()]\n",
    "    not_found_ids = [id for id in query_ids if id not in found_ids]\n",
    "    \n",
    "    print(f\"Found IDs: {sorted(found_ids)}\")\n",
    "    if not_found_ids:\n",
    "        print(f\"Not found IDs: {sorted(not_found_ids)}\")\n",
    "else:\n",
    "    print(\"No records found with the specified IDs.\")"
   ]
  },
  {
   "cell_type": "code",
   "execution_count": 8,
   "metadata": {},
   "outputs": [
    {
     "name": "stdout",
     "output_type": "stream",
     "text": [
      "Spark session stopped.\n"
     ]
    }
   ],
   "source": [
    "# Stop Spark session\n",
    "spark.stop()\n",
    "print(\"Spark session stopped.\")"
   ]
  },
  {
   "cell_type": "code",
   "execution_count": null,
   "metadata": {},
   "outputs": [],
   "source": []
  }
 ],
 "metadata": {
  "kernelspec": {
   "display_name": "Python 3 (ipykernel)",
   "language": "python",
   "name": "python3"
  },
  "language_info": {
   "codemirror_mode": {
    "name": "ipython",
    "version": 3
   },
   "file_extension": ".py",
   "mimetype": "text/x-python",
   "name": "python",
   "nbconvert_exporter": "python",
   "pygments_lexer": "ipython3",
   "version": "3.11.6"
  }
 },
 "nbformat": 4,
 "nbformat_minor": 4
}
