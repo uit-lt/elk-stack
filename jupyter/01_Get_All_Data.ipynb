{
 "cells": [
  {
   "cell_type": "markdown",
   "metadata": {},
   "source": [
    "# 📊 Get All Data from Elasticsearch"
   ]
  },
  {
   "cell_type": "code",
   "execution_count": 8,
   "metadata": {},
   "outputs": [],
   "source": [
    "from pyspark.sql import SparkSession\n",
    "from pyspark.sql.functions import *\n",
    "import pandas as pd"
   ]
  },
  {
   "cell_type": "code",
   "execution_count": 10,
   "metadata": {},
   "outputs": [
    {
     "name": "stdout",
     "output_type": "stream",
     "text": [
      "Application ID: local-1757837416759\n"
     ]
    }
   ],
   "source": [
    "# Create Spark Session\n",
    "spark = SparkSession.builder \\\n",
    "    .appName(\"GetAllData\") \\\n",
    "    .master(\"local[*]\") \\\n",
    "    .config(\"spark.es.nodes\", \"elasticsearch\") \\\n",
    "    .config(\"spark.es.port\", \"9200\") \\\n",
    "    .config(\"spark.serializer\", \"org.apache.spark.serializer.KryoSerializer\") \\\n",
    "    .config(\"spark.jars.packages\", \"org.elasticsearch:elasticsearch-spark-30_2.12:8.14.3\") \\\n",
    "    .getOrCreate()\n",
    "\n",
    "print(f\"Application ID: {spark.sparkContext.applicationId}\")"
   ]
  },
  {
   "cell_type": "code",
   "execution_count": 12,
   "metadata": {},
   "outputs": [
    {
     "name": "stdout",
     "output_type": "stream",
     "text": [
      "Reading from 2_people_data_2k index...\n",
      "Total records: 2001\n"
     ]
    }
   ],
   "source": [
    "# Read all data from people index\n",
    "print(\"Reading from 2_people_data_2k index...\")\n",
    "people_df = spark.read \\\n",
    "    .format(\"org.elasticsearch.spark.sql\") \\\n",
    "    .option(\"es.nodes\", \"elasticsearch\") \\\n",
    "    .option(\"es.port\", \"9200\") \\\n",
    "    .option(\"es.resource\", \"2_people_data_2k\") \\\n",
    "    .load()\n",
    "\n",
    "# Show total count\n",
    "total_count = people_df.count()\n",
    "print(f\"Total records: {total_count}\")"
   ]
  },
  {
   "cell_type": "code",
   "execution_count": 14,
   "metadata": {},
   "outputs": [
    {
     "name": "stdout",
     "output_type": "stream",
     "text": [
      "Sample data (first 10 records):\n",
      "+--------------------+--------+---+--------------------+--------------------+--------------+---+--------------------+--------------------+---------------+\n",
      "|          @timestamp|@version|age|               event|            filename|          host| id|                 log|             message|           name|\n",
      "+--------------------+--------+---+--------------------+--------------------+--------------+---+--------------------+--------------------+---------------+\n",
      "|2025-09-14 08:09:...|       1| 63| {642,Lê Tấn Lâm,63}|2_people_data_2k.csv|{00656bc1591c}|642|{{/usr/share/logs...|   642,Lê Tấn Lâm,63|     Lê Tấn Lâm|\n",
      "|2025-09-14 08:09:...|       1| 53| {643,Lê Hải Lâm,53}|2_people_data_2k.csv|{00656bc1591c}|643|{{/usr/share/logs...|   643,Lê Hải Lâm,53|     Lê Hải Lâm|\n",
      "|2025-09-14 08:09:...|       1| 46|{644,Nguyễn Đức H...|2_people_data_2k.csv|{00656bc1591c}|644|{{/usr/share/logs...|644,Nguyễn Đức Hạ...|Nguyễn Đức Hạnh|\n",
      "|2025-09-14 08:09:...|       1| 38|{645,Nguyễn Duyên...|2_people_data_2k.csv|{00656bc1591c}|645|{{/usr/share/logs...| 645,Nguyễn Duyên,38|   Nguyễn Duyên|\n",
      "|2025-09-14 08:09:...|       1| 31|{646,Phạm Trí Nhậ...|2_people_data_2k.csv|{00656bc1591c}|646|{{/usr/share/logs...|646,Phạm Trí Nhật,31|  Phạm Trí Nhật|\n",
      "|2025-09-14 08:09:...|       1| 66|{647,Vũ Bảo Nhật,66}|2_people_data_2k.csv|{00656bc1591c}|647|{{/usr/share/logs...|  647,Vũ Bảo Nhật,66|    Vũ Bảo Nhật|\n",
      "|2025-09-14 08:09:...|       1| 58| {648,Nguyễn Hải,58}|2_people_data_2k.csv|{00656bc1591c}|648|{{/usr/share/logs...|   648,Nguyễn Hải,58|     Nguyễn Hải|\n",
      "|2025-09-14 08:09:...|       1| 74|   {649,Đặng Nam,74}|2_people_data_2k.csv|{00656bc1591c}|649|{{/usr/share/logs...|     649,Đặng Nam,74|       Đặng Nam|\n",
      "|2025-09-14 08:09:...|       1| 66|{650,Dương Duy Tú...|2_people_data_2k.csv|{00656bc1591c}|650|{{/usr/share/logs...| 650,Dương Duy Tú,66|   Dương Duy Tú|\n",
      "|2025-09-14 08:09:...|       1| 38|   {651,Phạm Chi,38}|2_people_data_2k.csv|{00656bc1591c}|651|{{/usr/share/logs...|     651,Phạm Chi,38|       Phạm Chi|\n",
      "+--------------------+--------+---+--------------------+--------------------+--------------+---+--------------------+--------------------+---------------+\n",
      "only showing top 10 rows\n",
      "\n"
     ]
    }
   ],
   "source": [
    "# Show sample data\n",
    "print(\"Sample data (first 10 records):\")\n",
    "people_df.show(10)"
   ]
  },
  {
   "cell_type": "code",
   "execution_count": 16,
   "metadata": {},
   "outputs": [
    {
     "name": "stdout",
     "output_type": "stream",
     "text": [
      "Age distribution:\n",
      "+---+-----+\n",
      "|age|count|\n",
      "+---+-----+\n",
      "|  0|    1|\n",
      "| 18|   41|\n",
      "| 19|   43|\n",
      "| 20|   26|\n",
      "| 21|   28|\n",
      "| 22|   38|\n",
      "| 23|   27|\n",
      "| 24|   41|\n",
      "| 25|   33|\n",
      "| 26|   39|\n",
      "| 27|   37|\n",
      "| 28|   25|\n",
      "| 29|   37|\n",
      "| 30|   33|\n",
      "| 31|   25|\n",
      "| 32|   32|\n",
      "| 33|   37|\n",
      "| 34|   33|\n",
      "| 35|   35|\n",
      "| 36|   36|\n",
      "+---+-----+\n",
      "only showing top 20 rows\n",
      "\n"
     ]
    }
   ],
   "source": [
    "# Show age distribution\n",
    "print(\"Age distribution:\")\n",
    "age_dist = people_df.groupBy(\"age\").count().orderBy(\"age\")\n",
    "age_dist.show(20)"
   ]
  },
  {
   "cell_type": "code",
   "execution_count": 18,
   "metadata": {},
   "outputs": [
    {
     "name": "stdout",
     "output_type": "stream",
     "text": [
      "Most common names (top 10):\n",
      "+----------+-----+\n",
      "|      name|count|\n",
      "+----------+-----+\n",
      "| Hoàng Bảo|   14|\n",
      "|Trần Thành|   12|\n",
      "| Bùi Thành|   10|\n",
      "|   Mai Bảo|   10|\n",
      "| Hoàng Chi|    9|\n",
      "| Phạm Hạnh|    8|\n",
      "|Đặng Thành|    8|\n",
      "| Dương Mai|    8|\n",
      "|Bùi Phương|    8|\n",
      "|Dương Tùng|    8|\n",
      "+----------+-----+\n",
      "only showing top 10 rows\n",
      "\n"
     ]
    }
   ],
   "source": [
    "# Show name statistics\n",
    "print(\"Most common names (top 10):\")\n",
    "name_stats = people_df.groupBy(\"name\").count().orderBy(col(\"count\").desc())\n",
    "name_stats.show(10)"
   ]
  },
  {
   "cell_type": "code",
   "execution_count": 19,
   "metadata": {},
   "outputs": [
    {
     "name": "stdout",
     "output_type": "stream",
     "text": [
      "Spark session stopped.\n"
     ]
    }
   ],
   "source": [
    "# Stop Spark session\n",
    "spark.stop()\n",
    "print(\"Spark session stopped.\")"
   ]
  },
  {
   "cell_type": "code",
   "execution_count": null,
   "metadata": {},
   "outputs": [],
   "source": []
  }
 ],
 "metadata": {
  "kernelspec": {
   "display_name": "Python 3 (ipykernel)",
   "language": "python",
   "name": "python3"
  },
  "language_info": {
   "codemirror_mode": {
    "name": "ipython",
    "version": 3
   },
   "file_extension": ".py",
   "mimetype": "text/x-python",
   "name": "python",
   "nbconvert_exporter": "python",
   "pygments_lexer": "ipython3",
   "version": "3.11.6"
  }
 },
 "nbformat": 4,
 "nbformat_minor": 4
}
